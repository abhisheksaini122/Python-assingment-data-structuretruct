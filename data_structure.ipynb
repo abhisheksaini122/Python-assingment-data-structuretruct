{
  "nbformat": 4,
  "nbformat_minor": 0,
  "metadata": {
    "colab": {
      "provenance": []
    },
    "kernelspec": {
      "name": "python3",
      "display_name": "Python 3"
    },
    "language_info": {
      "name": "python"
    }
  },
  "cells": [
    {
      "cell_type": "markdown",
      "source": [],
      "metadata": {
        "id": "efnmRsHg52Cv"
      }
    },
    {
      "cell_type": "markdown",
      "source": [
        "**What are data structures, and why are they important?**\n",
        " >>Data structures are ways of organizing and storing data so that it can be accessed and modified efficiently. They're important because they help optimize tasks like data retrieval insertion, and deletion\n",
        "  — making programs faster and more efficient\n",
        "\n"
      ],
      "metadata": {
        "id": "QmUIylfO576t"
      }
    },
    {
      "cell_type": "markdown",
      "source": [
        "**Explain the difference between mutable and immutable data types with examples**.\n",
        "         >> Mutable:-types can be changed after creation (e.g list, dict, set)"
      ],
      "metadata": {
        "id": "XRFGf2iP6PhN"
      }
    },
    {
      "cell_type": "code",
      "source": [
        "my_list = [1, 2]\n",
        "my_list.append(3) # example"
      ],
      "metadata": {
        "id": "2EAjRgiK6qI7"
      },
      "execution_count": null,
      "outputs": []
    },
    {
      "cell_type": "markdown",
      "source": [
        "Immutable:- types cannot be changed once created (e.g., str, int, tuple)"
      ],
      "metadata": {
        "id": "KDDQf0Lc6-os"
      }
    },
    {
      "cell_type": "code",
      "source": [
        "#example\n",
        "my_str = \"hello\"\n",
        "my_str[0] = \"H\""
      ],
      "metadata": {
        "id": "w6E3IP907Hth"
      },
      "execution_count": null,
      "outputs": []
    },
    {
      "cell_type": "markdown",
      "source": [
        "Main differences between lists and tuples in Python:?\n",
        "        >> Featur(Mutability,Syntax,Performance,Use case),List(Mutable,[],Slower,Dynamic data),tuple(Immutable,(),Faster (less overhead),Fixed collections of data)\n"
      ],
      "metadata": {
        "id": "SGL6hFtY7O3F"
      }
    },
    {
      "cell_type": "markdown",
      "source": [
        "How do dictionaries store data?\n",
        "  >>Dictionaries store data as key-value pairs. Each key maps to a specific value. Under the hood, they use hash tables to allow fast lookups\n"
      ],
      "metadata": {
        "id": "2H-0Ohec9A_6"
      }
    },
    {
      "cell_type": "code",
      "source": [
        "#example\n",
        "person = {\"name\": \"Alice\", \"age\": 30}\n"
      ],
      "metadata": {
        "id": "W8SBSQE29WVr"
      },
      "execution_count": null,
      "outputs": []
    },
    {
      "cell_type": "markdown",
      "source": [
        "Why might you use a set instead of a list in Python?\n",
        "   >>.A string is an immutable sequence of characters.\n",
        "      .A list is a mutable sequence of items (can hold any data type).\n",
        "      .Strings cannot be changed, lists can."
      ],
      "metadata": {
        "id": "RYxcNCwZ9etW"
      }
    },
    {
      "cell_type": "markdown",
      "source": [
        "How do tuples ensure data integrity in Python?\n",
        "  >>Because tuples are immutable, their contents can't be accidentally changed. This makes them ideal for:\n",
        "\n",
        "   .Keys in dictionaries\n",
        "\n",
        "   .Fixed configuration values\n",
        "\n"
      ],
      "metadata": {
        "id": "Aygi2vzV9s9q"
      }
    },
    {
      "cell_type": "markdown",
      "source": [
        "What is a hash table, and how does it relate to dictionaries in Python?\n",
        "    >>A hash table maps keys to values using a hash function. Python’s\n",
        "     dict uses this structure to allow:\n",
        "\n",
        "    .Average O(1) time complexity for lookup, insert, and delete operations.\n",
        "\n"
      ],
      "metadata": {
        "id": "24NxJkiL-AJo"
      }
    },
    {
      "cell_type": "markdown",
      "source": [
        "**How do dictionaries store data**?\n",
        "     >>Dictionaries store data as key-value pairs. Each key maps to a specific value. Under the hood, they use hash tables to allow fast lookups.\n"
      ],
      "metadata": {
        "id": "FShjYWfn-Kbv"
      }
    },
    {
      "cell_type": "code",
      "source": [
        "#example\n",
        "person = {\"name\": \"Alice\", \"age\": 30}\n"
      ],
      "metadata": {
        "id": "quJpGYjR_Nnc"
      },
      "execution_count": null,
      "outputs": []
    },
    {
      "cell_type": "markdown",
      "source": [
        "**Why might you use a set instead of a list in Python?**\n",
        "    >>.Sets automatically remove duplicates.\n",
        "\n",
        "     .Sets offer faster membership testing (in) due to hash-based implementation.\n",
        "\n"
      ],
      "metadata": {
        "id": "WZT3ldw2_Xd4"
      }
    },
    {
      "cell_type": "markdown",
      "source": [
        "**What is a string in Python, and how is it different from a list?**\n",
        "      >>.A string is an immutable sequence of characters.\n",
        "\n",
        "        .A list is a mutable sequence of items (can hold any data type).\n",
        "\n",
        "        .Strings cannot be changed, lists can.\n"
      ],
      "metadata": {
        "id": "iX2R0t-x_pIE"
      }
    },
    {
      "cell_type": "markdown",
      "source": [
        "**How do tuples ensure data integrity in Python?**\n",
        "     >>.Because tuples are immutable, their contents can't be accidentally changed. This makes them ideal for:\n",
        "\n",
        "       .Keys in dictionaries\n",
        "\n",
        "        .Fixed configuration values"
      ],
      "metadata": {
        "id": "vtV-RN7w_-oA"
      }
    },
    {
      "cell_type": "markdown",
      "source": [
        "**What is a hash table, and how does it relate to dictionaries in Python?**\n",
        "            >>.A hash table maps keys to values using a hash function. Python’s dict uses this structure to allow:\n",
        "\n",
        "              .Average O(1) time complexity for lookup, insert, and delete operations."
      ],
      "metadata": {
        "id": "CiZIourPAQpR"
      }
    },
    {
      "cell_type": "markdown",
      "source": [
        "**Can lists contain different data types in Python?**\n",
        "      >>>Yes! Python lists can hold any combination of data types:"
      ],
      "metadata": {
        "id": "jN7p5jJVAk7t"
      }
    },
    {
      "cell_type": "code",
      "source": [
        "#example\n",
        "my_list = [1, \"hello\", 3.14, [4, 5]]\n"
      ],
      "metadata": {
        "id": "4xrwGGRTAwGF"
      },
      "execution_count": null,
      "outputs": []
    },
    {
      "cell_type": "markdown",
      "source": [
        "**Why are strings immutable in Python?**\n",
        "       >>Immutability of strings:\n",
        "\n",
        "         .Improves security (e.g., in hash-based structures like dictionaries).\n",
        "\n",
        "         .Allows sharing and reuse (string interning).\n",
        "\n",
        "          .Prevents bugs from accidental modification.\n",
        "\n"
      ],
      "metadata": {
        "id": "3PfuZFHNAz4-"
      }
    },
    {
      "cell_type": "markdown",
      "source": [
        "**Advantages dictionaries offer over lists for certain tasks:**\n",
        "   >>.Fast lookup using keys (O(1) vs O(n)).\n",
        "\n",
        "     .Better for structured data where relationships (key-value) matter.\n",
        "\n",
        "      .Easier data retrieval by labels, not position.\n",
        "\n"
      ],
      "metadata": {
        "id": "qcKTCZovBHxh"
      }
    },
    {
      "cell_type": "markdown",
      "source": [
        "**Describe a scenario where using a tuple would be preferable over a list:**\n",
        "      >>Use a tuple to:\n",
        "\n",
        "     . GPS coordinates (latitude, longitude).\n",
        "\n",
        "      .Return multiple values from a function.\n",
        "\n",
        "      .Use as keys in a dictionary (lists are unhashable).\n",
        "\n"
      ],
      "metadata": {
        "id": "2PbL3-wSBdt2"
      }
    },
    {
      "cell_type": "markdown",
      "source": [
        "**How do sets handle duplicate values in Python?**\n",
        "     >>Sets automatically eliminate duplicate elements:"
      ],
      "metadata": {
        "id": "YWBTEqr1B7kw"
      }
    },
    {
      "cell_type": "code",
      "source": [
        "#example\n",
        "my_set = {1, 2, 2, 3}\n",
        "print(my_set)  # {1, 2, 3}\n"
      ],
      "metadata": {
        "id": "6OFShSwdCC5q"
      },
      "execution_count": null,
      "outputs": []
    },
    {
      "cell_type": "markdown",
      "source": [
        "**How does the in keyword work differently for lists and dictionaries?**  \n",
        "         >>.List: Checks if the item is present (linear search).\n",
        "\n",
        "           .Dict: Checks if the key exists (hash lookup).\n",
        "\n"
      ],
      "metadata": {
        "id": "laSWg6GhCGqm"
      }
    },
    {
      "cell_type": "markdown",
      "source": [
        "**Can you modify the elements of a tuple? Explain why or why not.**\n",
        "       >>No. Tuples are immutable, so once created, their contents can't change. However, if a tuple contains a mutable object (like a list), that object can still be changed.\n",
        "\n"
      ],
      "metadata": {
        "id": "JUBXGu2-CVX1"
      }
    },
    {
      "cell_type": "markdown",
      "source": [
        "**What is a nested dictionary, and give an example of its use case:**\n",
        "       >>A nested dictionary is a dictionary inside another dictionary. Useful for representing structured data:"
      ],
      "metadata": {
        "id": "XgMpKslJCeGo"
      }
    },
    {
      "cell_type": "code",
      "source": [
        "#example\n",
        "students = {\n",
        "    \"Alice\": {\"math\": 90, \"science\": 85},\n",
        "    \"Bob\": {\"math\": 80, \"science\": 88}\n",
        "}\n"
      ],
      "metadata": {
        "id": "ugeF6kwLCmvJ"
      },
      "execution_count": null,
      "outputs": []
    },
    {
      "cell_type": "markdown",
      "source": [
        "**Describe the time complexity of accessing elements in a dictionary:**?\n",
        "                >>1.Average time: O(1)\n",
        "\n",
        "                  2.Worst-case (rare): O(n) due to hash collisions\n",
        "\n"
      ],
      "metadata": {
        "id": "-_s1D3xOCt6d"
      }
    },
    {
      "cell_type": "markdown",
      "source": [
        "**Why are dictionaries considered unordered, and how does that affect data retrieval?**\n",
        "       >>1.Conceptually still optimized for key lookup, not sequence.\n",
        "\n",
        "         2.You shouldn’t rely on order unless explicitly needed.\n",
        "\n"
      ],
      "metadata": {
        "id": "5Gu5ahd8DDGd"
      }
    },
    {
      "cell_type": "markdown",
      "source": [
        "**Explain the difference between a list and a dictionary in terms of data retrieval:**?\n",
        "              >>List: Access via index, slower lookups (O(n) for search).\n",
        "\n",
        "              2.Dict: Access via key, fast lookups (O(1))."
      ],
      "metadata": {
        "id": "D_29XfCoDUeA"
      }
    },
    {
      "cell_type": "markdown",
      "source": [
        "**Create a string with your name and print it:**"
      ],
      "metadata": {
        "id": "zZK5ZaJoEbPK"
      }
    },
    {
      "cell_type": "code",
      "source": [
        "name = \"abhi\"\n",
        "print(name)\n"
      ],
      "metadata": {
        "id": "E8lAnteWEfUL"
      },
      "execution_count": null,
      "outputs": []
    },
    {
      "cell_type": "markdown",
      "source": [
        "**Find the length of the string \"Hello World\":**"
      ],
      "metadata": {
        "id": "3_xqKnUCEmZx"
      }
    },
    {
      "cell_type": "code",
      "source": [
        "s = \"abhishek\"\n",
        "print(len(s))\n"
      ],
      "metadata": {
        "id": "7dXvdcLZEqDe"
      },
      "execution_count": null,
      "outputs": []
    },
    {
      "cell_type": "markdown",
      "source": [
        "**Slice the first 3 characters from the string \"Python Programming\":**"
      ],
      "metadata": {
        "id": "cKjWfah5Exav"
      }
    },
    {
      "cell_type": "code",
      "source": [
        "text = \"Python Programming\"\n",
        "print(text[:3])\n"
      ],
      "metadata": {
        "id": "tgV0zdWCE5jb"
      },
      "execution_count": null,
      "outputs": []
    },
    {
      "cell_type": "markdown",
      "source": [
        "**Convert the string \"hello\" to uppercase:**"
      ],
      "metadata": {
        "id": "Puos2LkUE8e0"
      }
    },
    {
      "cell_type": "code",
      "source": [
        "word = \"hello\"\n",
        "print(word.upper())\n"
      ],
      "metadata": {
        "id": "PvkLuh1ZFDYU"
      },
      "execution_count": null,
      "outputs": []
    },
    {
      "cell_type": "code",
      "source": [
        "word = \"hello\"\n",
        "print(word.upper())\n"
      ],
      "metadata": {
        "id": "TiFTkUYlFJGA"
      },
      "execution_count": null,
      "outputs": []
    },
    {
      "cell_type": "markdown",
      "source": [
        "**Replace the word \"apple\" with \"orange\" in the string \"I like apple\":**"
      ],
      "metadata": {
        "id": "nzR3yMbhFLic"
      }
    },
    {
      "cell_type": "code",
      "source": [
        "sentence = \"I like apple\"\n",
        "new_sentence = sentence.replace(\"apple\", \"orange\")\n",
        "print(new_sentence)\n"
      ],
      "metadata": {
        "id": "AHtMLyAnFStf"
      },
      "execution_count": null,
      "outputs": []
    },
    {
      "cell_type": "markdown",
      "source": [
        "**Create a list with numbers 1 to 5 and print it:**\n",
        "\n"
      ],
      "metadata": {
        "id": "alBUqGxGFVvB"
      }
    },
    {
      "cell_type": "code",
      "source": [
        "numbers = [1, 2, 3, 4, 5]\n",
        "print(numbers)\n"
      ],
      "metadata": {
        "id": "UCOVnHRWFb5x"
      },
      "execution_count": null,
      "outputs": []
    },
    {
      "cell_type": "markdown",
      "source": [
        "**Append the number 10 to the list [1, 2, 3, 4]:**"
      ],
      "metadata": {
        "id": "kAu-O7stFw6e"
      }
    },
    {
      "cell_type": "code",
      "source": [
        "my_list = [1, 2, 3, 4]\n",
        "my_list.append(10)\n",
        "print(my_list)\n"
      ],
      "metadata": {
        "id": "M79H9GrMF0Lz"
      },
      "execution_count": null,
      "outputs": []
    },
    {
      "cell_type": "markdown",
      "source": [
        "**Remove the number 3 from the list [1, 2, 3, 4, 5]:**"
      ],
      "metadata": {
        "id": "_cSgbMf8F4z8"
      }
    },
    {
      "cell_type": "code",
      "source": [
        "nums = [1, 2, 3, 4, 5]\n",
        "nums.remove(3)\n",
        "print(nums)\n"
      ],
      "metadata": {
        "id": "acjum4nOF-y7"
      },
      "execution_count": null,
      "outputs": []
    },
    {
      "cell_type": "markdown",
      "source": [
        "**Access the second element in the list ['a', 'b', 'c', 'd']:**"
      ],
      "metadata": {
        "id": "znCXvxHjGBtr"
      }
    },
    {
      "cell_type": "code",
      "source": [
        "letters = ['a', 'b', 'c', 'd']\n",
        "print(letters[1])\n"
      ],
      "metadata": {
        "id": "Y5h3X01dGFuc"
      },
      "execution_count": null,
      "outputs": []
    },
    {
      "cell_type": "markdown",
      "source": [
        "**Reverse the list [10, 20, 30, 40, 50]:**"
      ],
      "metadata": {
        "id": "Y_QEwct0GNEO"
      }
    },
    {
      "cell_type": "code",
      "source": [
        "lst = [10, 20, 30, 40, 50]\n",
        "lst.reverse()\n",
        "print(lst)\n"
      ],
      "metadata": {
        "id": "0sKrwju1GSuX"
      },
      "execution_count": null,
      "outputs": []
    },
    {
      "cell_type": "markdown",
      "source": [
        "**Create a tuple with the elements 100, 200, 300 and print it:**"
      ],
      "metadata": {
        "id": "5gwTyagdGbDI"
      }
    },
    {
      "cell_type": "code",
      "source": [
        "my_tuple = (100, 200, 300)\n",
        "print(my_tuple)\n"
      ],
      "metadata": {
        "id": "FUuHtZg1GeLC"
      },
      "execution_count": null,
      "outputs": []
    },
    {
      "cell_type": "markdown",
      "source": [
        "**Access the second-to-last element of the tuple ('red', 'green', 'blue', 'yellow'):**"
      ],
      "metadata": {
        "id": "q0aQlviIGgVb"
      }
    },
    {
      "cell_type": "code",
      "source": [
        "colors = ('red', 'green', 'blue', 'yellow')\n",
        "print(colors[-2])\n"
      ],
      "metadata": {
        "id": "SIfq3iCoGnNw"
      },
      "execution_count": null,
      "outputs": []
    },
    {
      "cell_type": "markdown",
      "source": [
        "**Find the minimum number in the tuple (10, 20, 5, 15)**:"
      ],
      "metadata": {
        "id": "I2JznG29GpNx"
      }
    },
    {
      "cell_type": "code",
      "source": [
        "nums = (10, 20, 5, 15)\n",
        "print(min(nums))\n"
      ],
      "metadata": {
        "id": "vXaevMe3GuDN"
      },
      "execution_count": null,
      "outputs": []
    },
    {
      "cell_type": "markdown",
      "source": [
        "**Find the index of \"cat\" in the tuple ('dog', 'cat', 'rabbit'):**"
      ],
      "metadata": {
        "id": "_5whq5AwGvfS"
      }
    },
    {
      "cell_type": "code",
      "source": [
        "animals = ('dog', 'cat', 'rabbit')\n",
        "print(animals.index('cat'))\n"
      ],
      "metadata": {
        "id": "eFoq3pDXG0eI"
      },
      "execution_count": null,
      "outputs": []
    },
    {
      "cell_type": "markdown",
      "source": [
        "**Create a tuple with three fruits and check if \"kiwi\" is in it:**"
      ],
      "metadata": {
        "id": "r8gBDWnbG1-v"
      }
    },
    {
      "cell_type": "code",
      "source": [
        "fruits = ('apple', 'banana', 'orange')\n",
        "print(\"kiwi\" in fruits)\n"
      ],
      "metadata": {
        "id": "uviAgCGbG8Gr"
      },
      "execution_count": null,
      "outputs": []
    },
    {
      "cell_type": "markdown",
      "source": [
        "**Create a set with the elements 'a', 'b', 'c' and print it:**"
      ],
      "metadata": {
        "id": "gT9huLJJG_GQ"
      }
    },
    {
      "cell_type": "code",
      "source": [
        "letters = {'a', 'b', 'c'}\n",
        "print(letters)\n"
      ],
      "metadata": {
        "id": "PtwjPSKAHCmf"
      },
      "execution_count": null,
      "outputs": []
    },
    {
      "cell_type": "markdown",
      "source": [
        "**Clear all elements from the set {1, 2, 3, 4, 5}:**"
      ],
      "metadata": {
        "id": "buUeuc7LHFki"
      }
    },
    {
      "cell_type": "code",
      "source": [
        "nums = {1, 2, 3, 4, 5}\n",
        "nums.clear()\n",
        "print(nums)\n"
      ],
      "metadata": {
        "id": "ATHRNANaHIhJ"
      },
      "execution_count": null,
      "outputs": []
    },
    {
      "cell_type": "markdown",
      "source": [
        "**Remove the element 4 from the set {1, 2, 3, 4}:**"
      ],
      "metadata": {
        "id": "FQceO9GgHK9H"
      }
    },
    {
      "cell_type": "code",
      "source": [
        "nums = {1, 2, 3, 4}\n",
        "nums.remove(4)\n",
        "print(nums)\n"
      ],
      "metadata": {
        "id": "IPuIUk06HOGh"
      },
      "execution_count": null,
      "outputs": []
    },
    {
      "cell_type": "markdown",
      "source": [
        "**Find the union of two sets {1, 2, 3} and {3, 4, 5}:**"
      ],
      "metadata": {
        "id": "yo59rXxtHP6l"
      }
    },
    {
      "cell_type": "code",
      "source": [
        "a = {1, 2, 3}\n",
        "b = {3, 4, 5}\n",
        "print(a.union(b))\n"
      ],
      "metadata": {
        "id": "-PCwAyBvHUcw"
      },
      "execution_count": null,
      "outputs": []
    },
    {
      "cell_type": "markdown",
      "source": [
        "**Find the intersection of two sets {1, 2, 3} and {2, 3, 4}:**"
      ],
      "metadata": {
        "id": "I6RugXihHV9r"
      }
    },
    {
      "cell_type": "code",
      "source": [
        "a = {1, 2, 3}\n",
        "b = {2, 3, 4}\n",
        "print(a.intersection(b))\n"
      ],
      "metadata": {
        "id": "ht16ME5IHf73"
      },
      "execution_count": null,
      "outputs": []
    }
  ]
}